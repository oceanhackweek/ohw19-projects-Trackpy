{
 "cells": [
  {
   "cell_type": "code",
   "execution_count": null,
   "metadata": {},
   "outputs": [],
   "source": [
    "%matplotlib inline\n",
    "import warnings\n",
    "warnings.simplefilter('ignore')"
   ]
  },
  {
   "cell_type": "code",
   "execution_count": null,
   "metadata": {},
   "outputs": [],
   "source": [
    "import pandas as pd\n",
    "import matplotlib.pyplot as plt\n",
    "\n",
    "url = \"https://raw.githubusercontent.com/oceanhackweek/ohw19-projects-Trackpy/7d62174c4188a0f3d4aaadf848ef91e36da63289/data/example_turtle_track.csv\"\n",
    "track = pd.read_csv(url)\n",
    "track_ex = pd.read_csv(url, parse_dates=['datetime'])\n",
    "track_ex.head(5)\n",
    "\n",
    "plt.plot(track_ex.lon,track_ex.lat)"
   ]
  },
  {
   "cell_type": "code",
   "execution_count": null,
   "metadata": {},
   "outputs": [],
   "source": [
    "%matplotlib inline\n",
    "import pyproj as pyproj\n",
    "from pyproj import Proj, transform\n",
    "import cartopy.crs as ccrs\n",
    "\n",
    "inProj = Proj(init='epsg:4326')\n",
    "outProj = Proj(init='epsg:32662')\n",
    "\n",
    "def convertCoords(row):\n",
    "    x2,y2 = pyproj.transform(inProj,outProj,row['lon'],row['lat'])\n",
    "    return pd.Series({'newLong':x2,'newLat':y2})\n",
    "\n",
    "track_ex[['newLong','newLat']] = track_ex.apply(convertCoords,axis=1)\n",
    "\n",
    "plt.figure(figsize=(12, 8))\n",
    "ax = plt.axes(projection=ccrs.PlateCarree(central_longitude=180, globe=None))\n",
    "ax.coastlines()\n",
    "x,y = track_ex['newLong'], track_ex['newLat'] \n",
    "plt.plot(x,y)"
   ]
  },
  {
   "cell_type": "markdown",
   "metadata": {},
   "source": [
    "For this tutorial, we will use the Sea Surface Height (SSH) - derived mesoscale eddy product maintained by AVISO. Access to AVISO data products is free, but requires an account. In this step, you will be asked for your AVISO login credentials in order to interact with their mesoscale eddy track database. If you do not have an account, create one here: https://www.aviso.altimetry.fr/en/data/data-access/registration-form.html"
   ]
  },
  {
   "cell_type": "code",
   "execution_count": null,
   "metadata": {},
   "outputs": [],
   "source": [
    "import ftplib\n",
    "from ftplib import FTP\n",
    "import getpass\n",
    "\n",
    "ftp_add =  'ftp-access.aviso.altimetry.fr'\n",
    "\n",
    "username = input('username:')\n",
    "password = getpass.getpass()\n",
    "\n",
    "ftp = FTP(ftp_add)\n",
    "ftp.login(username,password)\n",
    "ftp.cwd('value-added/eddy-trajectory/delayed-time/')\n",
    "filename = 'eddy_trajectory_2.0exp_19930101_20180118.nc'\n",
    "f = open(filename, \"wb\")\n",
    "ftp.retrbinary(\"RETR \" + filename, f.write, 8*1024)\n",
    "f.close()\n",
    "ftp.close() \n"
   ]
  },
  {
   "cell_type": "code",
   "execution_count": null,
   "metadata": {},
   "outputs": [],
   "source": [
    "import folium\n",
    "from folium.plugins import TimestampedGeoJson\n",
    "\n",
    "\n",
    "locations = track_ex[['lat', 'lon']]\n",
    "locationlist = locations.values.tolist()\n",
    "len(locationlist)\n",
    "locationlist[7]\n",
    "\n",
    "def create_geojson_features(df):\n",
    "    print('> Creating GeoJSON features...')\n",
    "    features = []\n",
    "    for _, row in df.iterrows():\n",
    "        feature = {\n",
    "            'type': 'Feature',\n",
    "            'geometry': {\n",
    "                'type':'Point', \n",
    "                'coordinates':[row['lon'],row['lat']]\n",
    "            },\n",
    "            'properties': {\n",
    "                'time': row['datetime'].date().__str__(),\n",
    "                'style': {'color' : 'black','weight' : 1, 'opacity' : 0.75},\n",
    "                'icon': 'circle',\n",
    "                'iconstyle':{\n",
    "                    'fillColor': 'red',\n",
    "                    'fillOpacity': 0.5,\n",
    "                    'stroke': 'true',\n",
    "                    'radius': 4\n",
    "                }\n",
    "            }\n",
    "        }\n",
    "        features.append(feature)\n",
    "    return features\n",
    "\n",
    "features = create_geojson_features(track_ex)\n",
    "#features\n",
    "m = folium.Map(location=[track_ex.lat.mean(), track_ex.lon.mean()], zoom_start=5, tiles=None, control_scale=True)\n",
    "folium.raster_layers.TileLayer('OpenStreetMap').add_to(m)\n",
    "folium.raster_layers.TileLayer('stamenterrain').add_to(m)\n",
    "TimestampedGeoJson(\n",
    "    {'type': 'FeatureCollection',\n",
    "    'features': features}\n",
    "    , period='P1D'\n",
    "    , add_last_point=True\n",
    "    , auto_play=False\n",
    "    , loop=False\n",
    "    , max_speed=4\n",
    "    , loop_button=True\n",
    "    , date_options='YYYY/MM/DD'\n",
    "    , time_slider_drag_update=True\n",
    "    , duration='P2D'\n",
    ").add_to(m)\n",
    "feature_group = folium.FeatureGroup(name='Track Line', overlay=True, control=True, show=False)\n",
    "folium.PolyLine(locationlist,weight=5,color = 'red').add_to(feature_group)\n",
    "#for point in range(0, len(locationlist)):\n",
    "#    folium.CircleMarker(locationlist[point],\n",
    "#                        radius=3,\n",
    "#                        weight=2, popup=track_ex['datetime'][point]).add_to(m)\n",
    "folium.plugins.Fullscreen(\n",
    "    position='topright',\n",
    "    title='Expand me',\n",
    "    title_cancel='Exit me',\n",
    "    force_separate_button=True\n",
    ").add_to(m)\n",
    "m.add_child(feature_group) \n",
    "m.add_child(folium.map.LayerControl())\n",
    "\n",
    "m"
   ]
  }
 ],
 "metadata": {
  "kernelspec": {
   "display_name": "Python 3",
   "language": "python",
   "name": "python3"
  },
  "language_info": {
   "codemirror_mode": {
    "name": "ipython",
    "version": 3
   },
   "file_extension": ".py",
   "mimetype": "text/x-python",
   "name": "python",
   "nbconvert_exporter": "python",
   "pygments_lexer": "ipython3",
   "version": "3.7.3"
  }
 },
 "nbformat": 4,
 "nbformat_minor": 4
}
