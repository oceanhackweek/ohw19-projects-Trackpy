{
 "cells": [
  {
   "cell_type": "code",
   "execution_count": 12,
   "metadata": {},
   "outputs": [],
   "source": [
    "%matplotlib inline\n",
    "import warnings\n",
    "warnings.simplefilter('ignore')"
   ]
  },
  {
   "cell_type": "code",
   "execution_count": 13,
   "metadata": {},
   "outputs": [
    {
     "data": {
      "text/plain": [
       "[<matplotlib.lines.Line2D at 0xb17b45828>]"
      ]
     },
     "execution_count": 13,
     "metadata": {},
     "output_type": "execute_result"
    },
    {
     "data": {
      "image/png": "[encoded data removed]",
      "text/plain": [
       "<Figure size 432x288 with 1 Axes>"
      ]
     },
     "metadata": {
      "needs_background": "light"
     },
     "output_type": "display_data"
    }
   ],
   "source": [
    "import pandas as pd\n",
    "import matplotlib.pyplot as plt\n",
    "\n",
    "url = \"https://raw.githubusercontent.com/oceanhackweek/ohw19-projects-Trackpy/7d62174c4188a0f3d4aaadf848ef91e36da63289/data/example_turtle_track.csv\"\n",
    "track = pd.read_csv(url)\n",
    "track_ex = pd.read_csv(url, parse_dates=['datetime'])\n",
    "track_ex.head(5)\n",
    "\n",
    "plt.plot(track_ex.lon,track_ex.lat)"
   ]
  },
  {
   "cell_type": "code",
   "execution_count": 16,
   "metadata": {},
   "outputs": [
    {
     "data": {
      "text/plain": [
       "[<matplotlib.lines.Line2D at 0xb1791f198>]"
      ]
     },
     "execution_count": 16,
     "metadata": {},
     "output_type": "execute_result"
    },
    {
     "data": {
      "image/png": "[encoded data removed]",
      "text/plain": [
       "<Figure size 864x576 with 1 Axes>"
      ]
     },
     "metadata": {
      "needs_background": "light"
     },
     "output_type": "display_data"
    }
   ],
   "source": [
    "%matplotlib inline\n",
    "import pyproj as pyproj\n",
    "from pyproj import Proj, transform\n",
    "import cartopy.crs as ccrs\n",
    "\n",
    "inProj = Proj(init='epsg:4326')\n",
    "outProj = Proj(init='epsg:32662')\n",
    "\n",
    "def convertCoords(row):\n",
    "    x2,y2 = pyproj.transform(inProj,outProj,row['lon'],row['lat'])\n",
    "    return pd.Series({'newLong':x2,'newLat':y2})\n",
    "\n",
    "track_ex[['newLong','newLat']] = track_ex.apply(convertCoords,axis=1)\n",
    "\n",
    "plt.figure(figsize=(12, 8))\n",
    "ax = plt.axes(projection=ccrs.PlateCarree(central_longitude=180, globe=None))\n",
    "ax.coastlines()\n",
    "x,y = track_ex['newLong'], track_ex['newLat'] \n",
    "plt.plot(x,y)"
   ]
  },
  {
   "cell_type": "markdown",
   "metadata": {},
   "source": [
    "For this tutorial, we will use the Sea Surface Height (SSH) - derived mesoscale eddy product maintained by AVISO. Access to AVISO data products is free, but requires an account. In this step, you will be asked for your AVISO login credentials in order to interact with their mesoscale eddy track database. If you do not have an account, create one here: https://www.aviso.altimetry.fr/en/data/data-access/registration-form.html"
   ]
  },
  {
   "cell_type": "code",
   "execution_count": 18,
   "metadata": {},
   "outputs": [
    {
     "name": "stdin",
     "output_type": "stream",
     "text": [
      "username: woestreich@stanford.edu\n",
      " ······\n"
     ]
    }
   ],
   "source": [
    "import ftplib\n",
    "from ftplib import FTP\n",
    "import getpass\n",
    "\n",
    "ftp_add =  'ftp-access.aviso.altimetry.fr'\n",
    "\n",
    "username = input('username:')\n",
    "password = getpass.getpass()\n",
    "\n",
    "ftp = FTP(ftp_add)\n",
    "ftp.login(username,password)\n",
    "ftp.cwd('value-added/eddy-trajectory/delayed-time/')\n",
    "filename = 'eddy_trajectory_2.0exp_19930101_20180118.nc'\n",
    "f = open(filename, \"wb\")\n",
    "ftp.retrbinary(\"RETR \" + filename, f.write, 8*1024)\n",
    "f.close()\n",
    "ftp.close() \n"
   ]
  },
  {
   "cell_type": "code",
   "execution_count": null,
   "metadata": {},
   "outputs": [],
   "source": [
    "import folium\n",
    "\n",
    "lon, lat = -122.3139735, 47.6533665\n",
    "m = folium.Map(location=[lat, lon], zoom_start=17)\n",
    "folium.Marker(location=[lat, lon], popup='You are here!').add_to(m)\n",
    "m"
   ]
  }
 ],
 "metadata": {
  "kernelspec": {
   "display_name": "Python 3",
   "language": "python",
   "name": "python3"
  },
  "language_info": {
   "codemirror_mode": {
    "name": "ipython",
    "version": 3
   },
   "file_extension": ".py",
   "mimetype": "text/x-python",
   "name": "python",
   "nbconvert_exporter": "python",
   "pygments_lexer": "ipython3",
   "version": "3.7.3"
  }
 },
 "nbformat": 4,
 "nbformat_minor": 4
}
